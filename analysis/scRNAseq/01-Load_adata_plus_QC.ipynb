{
 "cells": [
  {
   "cell_type": "markdown",
   "id": "62d47896-990f-4e24-9dc5-e1838e3305f3",
   "metadata": {},
   "source": [
    "# Calprotectin organoids:"
   ]
  },
  {
   "cell_type": "markdown",
   "id": "8baa8a2c",
   "metadata": {},
   "source": [
    "## 1. Load scRNAseq data\n",
    "Load cellranger output matrices and concatenate all samples to single adata"
   ]
  },
  {
   "cell_type": "code",
   "execution_count": null,
   "id": "0bebe134-6d2a-4b9e-982f-8fb5c6a13566",
   "metadata": {},
   "outputs": [],
   "source": [
    "import os\n",
    "import gzip\n",
    "import anndata as ad\n",
    "import scanpy as sc\n",
    "import scipy as sp\n",
    "import numpy as np\n",
    "import pandas as pd\n",
    "import seaborn as sns\n",
    "import matplotlib.pyplot as plt\n",
    "sc.settings.set_figure_params(figsize=(5,5))\n",
    "sns.set(font_scale=2)\n",
    "fig_dir=\"../../results/figures/scRNAseq\""
   ]
  },
  {
   "cell_type": "markdown",
   "id": "187e2c5b",
   "metadata": {},
   "source": [
    "### Get metadata\n",
    "This project had to be repeated due to technical issues with 10x. I will load both runs anyway."
   ]
  },
  {
   "cell_type": "code",
   "execution_count": null,
   "id": "c839862c-7f38-4000-8bfd-2dffd21d89c3",
   "metadata": {},
   "outputs": [],
   "source": [
    "# New run\n",
    "# Get metadata from samplesheet\n",
    "meta = pd.read_csv('../../tables/samplesheet.csv')\n",
    "meta.drop(axis='columns', labels=['fastq_1', 'fastq_2'], inplace=True)\n",
    "\n",
    "# Reorder by Sample ID, drop double columns, and update index\n",
    "sample_idx = []\n",
    "for s in meta['sample'].values:\n",
    "    sample_idx.append(int(s[2:]))\n",
    "\n",
    "meta['sample_idx'] = sample_idx\n",
    "meta = meta.sort_values('sample_idx')\n",
    "meta.index = meta.sample_idx\n",
    "meta=meta.drop(columns=['sample_idx'])\n",
    "\n",
    "# Make column type categorical and specify factor levels and order\n",
    "# For some reason this is not taken over when compiling the anndata object ...\n",
    "meta[\"sample\"] = pd.Categorical(meta[\"sample\"],\n",
    "                                categories=meta[\"sample\"].values)\n",
    "meta[\"group\"] = pd.Categorical(meta[\"group\"],\n",
    "                               categories=['Ctrl', 'A8', 'A9', 'A8A9'])"
   ]
  },
  {
   "cell_type": "code",
   "execution_count": null,
   "id": "0799e446",
   "metadata": {},
   "outputs": [],
   "source": [
    "# Old run\n",
    "# Get metadata from samplesheet\n",
    "meta_old = pd.read_csv('../../tables/samplesheet_old.csv')\n",
    "meta_old.drop(axis='columns', labels=['fastq_1', 'fastq_2'], inplace=True)\n",
    "\n",
    "# Reorder by Sample ID, drop double columns, and update index\n",
    "sample_idx = []\n",
    "for s in meta_old['sample'].values:\n",
    "    sample_idx.append(int(s[2:]))\n",
    "\n",
    "meta_old['sample_idx'] = sample_idx\n",
    "meta_old = meta_old.sort_values('sample_idx')\n",
    "meta_old.index = meta_old.sample_idx\n",
    "meta_old=meta_old.drop(columns=['sample_idx'])"
   ]
  },
  {
   "cell_type": "markdown",
   "id": "100dde0e",
   "metadata": {},
   "source": [
    "### Save/Load meta table as/from csv"
   ]
  },
  {
   "cell_type": "code",
   "execution_count": null,
   "id": "06416163",
   "metadata": {},
   "outputs": [],
   "source": [
    "pd.concat([meta,meta_old])"
   ]
  },
  {
   "cell_type": "code",
   "execution_count": null,
   "id": "8cc4bc65",
   "metadata": {},
   "outputs": [],
   "source": [
    "# Make single table with all samples old/new\n",
    "# Save to path\n",
    "pd.concat([meta,meta_old]).to_csv('../../results/produced_data/scRNAseq/metadata.csv')\n",
    "\n",
    "# Load from path\n",
    "pd.read_csv('../../results/produced_data/scRNAseq/metadata.csv', index_col=0)"
   ]
  },
  {
   "cell_type": "markdown",
   "id": "d7912c1f",
   "metadata": {},
   "source": [
    "### Load features.tsv.gz from single sample"
   ]
  },
  {
   "cell_type": "code",
   "execution_count": null,
   "id": "3ef1b83d",
   "metadata": {},
   "outputs": [],
   "source": [
    "# This should be equivalent for every sample\n",
    "features_path = f\"/data/projects/2022/Adolph-scRNA-organoids/01_nfcore_scrnaseq/cellranger/sample-AJ10/outs/filtered_feature_bc_matrix/features.tsv.gz\"\n",
    "genes = pd.read_csv(gzip.open(features_path, mode=\"rt\"), delimiter=\"\\t\", header=None)\n",
    "genes.drop(genes.columns[[2]], axis=1, inplace=True)\n",
    "genes.rename(columns={0:'gene_id', 1: 'gene_symbol'}, inplace=True)\n",
    "genes.set_index('gene_symbol', inplace=True)"
   ]
  },
  {
   "cell_type": "markdown",
   "id": "1bc4005a-6074-47c1-a743-81cb301f05fa",
   "metadata": {},
   "source": [
    "### Get marker genes for cell types"
   ]
  },
  {
   "cell_type": "code",
   "execution_count": null,
   "id": "763226cc-a0f2-4f10-8332-5abb45672360",
   "metadata": {},
   "outputs": [],
   "source": [
    "marker = pd.read_csv('../../tables/marker_genes.csv', sep=\";\")"
   ]
  },
  {
   "cell_type": "code",
   "execution_count": null,
   "id": "913551db-88af-4104-9f0d-ea750f6d8e39",
   "metadata": {},
   "outputs": [],
   "source": [
    "# subset by cell type marker and store as list\n",
    "dict_marker={}\n",
    "for m in marker.marker.unique():\n",
    "    dict_marker[m] = list(marker.loc[(marker.marker==m),'Human'].dropna().values)"
   ]
  },
  {
   "cell_type": "code",
   "execution_count": null,
   "id": "b2a6b99a-3406-4aad-88c6-329c7e15612a",
   "metadata": {},
   "outputs": [],
   "source": [
    "marker.marker.unique()"
   ]
  },
  {
   "cell_type": "code",
   "execution_count": null,
   "id": "f0bd0646-db0e-4363-ba9c-173ba8ab0f10",
   "metadata": {},
   "outputs": [],
   "source": [
    "dict_marker['M_cells']"
   ]
  },
  {
   "cell_type": "code",
   "execution_count": null,
   "id": "c7dd5abe-e8ab-4dc9-bc4f-8572a6383680",
   "metadata": {},
   "outputs": [],
   "source": [
    "# Not sure how to handle genes that were modified with var_names_make_unique()\n",
    "# When using the genes from the features.tsv.gz I should get the actual interaction - before any filtering though\n",
    "intersect_genes = list(set(marker.Human.dropna().values).intersection(genes.index))"
   ]
  },
  {
   "cell_type": "markdown",
   "id": "f87d0d29",
   "metadata": {},
   "source": [
    "## Load cellranger output to single adata"
   ]
  },
  {
   "cell_type": "markdown",
   "id": "6cd353d5",
   "metadata": {},
   "source": [
    "### 1. adata.obs `gene_ids as index`, symbols as column\n",
    "This way there should be no identical indices.\n",
    "<br>\n",
    "**Note:** Mitochondrial genes do not work as only symbols have `MT-` string in name!\n",
    "<br>\n",
    "### **-> Skip this block and use symbols as indices below!!!**"
   ]
  },
  {
   "cell_type": "code",
   "execution_count": null,
   "id": "d048c6e3-42c4-4d21-bb9c-11926b5741e6",
   "metadata": {},
   "outputs": [],
   "source": [
    "# Version 1: Use ensembl gene_ids as index\n",
    "# Iterate over sample h5ads and concatenate\n",
    "p_dir=\"/data/projects/2022/Adolph-scRNA-organoids\"\n",
    "adatas = dict()\n",
    "key_save_l = []\n",
    "# Use conditional statement to discriminate between new and old samples\n",
    "for sample in pd.concat([meta,meta_old]).to_dict(orient=\"records\"):\n",
    "    if 'AJ' in sample['sample']:\n",
    "        p_h5ads = f\"{p_dir}/01_nfcore_scrnaseq/cellranger/sample-{sample['sample']}/outs/filtered_feature_bc_matrix.h5\"\n",
    "    elif 'TA' in sample['sample']:\n",
    "        p_h5ads = f\"{p_dir}/01_cellranger/cellranger/sample-{sample['sample']}/outs/filtered_feature_bc_matrix.h5\"\n",
    "    else:\n",
    "         print(sample['sample'])\n",
    "    tmp_adata = sc.read_10x_h5(p_h5ads)\n",
    "                                             \n",
    "    # save gene conversion key and switch index to ensembl ids before making unique\n",
    "    key_save_l.append(tmp_adata.var.copy())\n",
    "    tmp_adata.var['gene_symbols'] = tmp_adata.var.index\n",
    "    tmp_adata.var.index = tmp_adata.var.gene_ids\n",
    "    tmp_adata.var = tmp_adata.var.drop(columns=['gene_symbols','feature_types','genome'])\n",
    "    tmp_adata.var_names_make_unique()\n",
    "    assert tmp_adata.obs_names.is_unique\n",
    "    tmp_adata.obs = tmp_adata.obs.assign(**sample)\n",
    "    adatas[sample['sample']] = tmp_adata # assign sample_id to barcodes\n",
    "    \n",
    "# when concatenating all, columns in .var are somehow dropped\n",
    "# index_unique in .concat appends sample ids to barcodes\n",
    "adata = ad.concat(adatas, index_unique=\"_\")\n",
    "\n",
    "for k in key_save_l[1:]:\n",
    "    assert np.all(k==key_save_l[0])\n",
    "\n",
    "key = key_save_l[-1]\n",
    "key= key.reset_index()\n",
    "key.index=key.gene_ids\n",
    "\n",
    "# Use conversion key to re-assign symbols to ensembl ids\n",
    "adata.var['gene_symbols'] = key.loc[adata.var.index]['index']"
   ]
  },
  {
   "cell_type": "markdown",
   "id": "429fc91d",
   "metadata": {},
   "source": [
    "### 2. `Symbols as index`, gene_ids as column\n",
    "Dup symbols are appended with -1, -2, etc. using `var_names_make_unique()`\n",
    "<br>\n",
    "### **-> Use this for QC!!!**"
   ]
  },
  {
   "cell_type": "code",
   "execution_count": null,
   "id": "4dca1898",
   "metadata": {},
   "outputs": [],
   "source": [
    "# Iterate over sample h5ads and concatenate\n",
    "p_dir=\"/data/projects/2022/Adolph-scRNA-organoids\"\n",
    "adatas = dict()\n",
    "key_save_l = []\n",
    "# Use conditional statement to discriminate between new and old samples\n",
    "for sample in pd.concat([meta,meta_old]).to_dict(orient=\"records\"):\n",
    "    if 'AJ' in sample['sample']:\n",
    "        p_h5ads = f\"{p_dir}/01_nfcore_scrnaseq/cellranger/sample-{sample['sample']}/outs/filtered_feature_bc_matrix.h5\"\n",
    "    elif 'TA' in sample['sample']:\n",
    "        p_h5ads = f\"{p_dir}/01_cellranger/cellranger/sample-{sample['sample']}/outs/filtered_feature_bc_matrix.h5\"\n",
    "    else:\n",
    "         print(sample['sample'])\n",
    "    tmp_adata = sc.read_10x_h5(p_h5ads)\n",
    "                                             \n",
    "    # save gene conversion key and switch index to ensembl ids before making unique\n",
    "    key_save_l.append(tmp_adata.var.copy())\n",
    "    tmp_adata.var = tmp_adata.var.drop(columns=['feature_types','genome'])\n",
    "    tmp_adata.var_names_make_unique()\n",
    "    assert tmp_adata.obs_names.is_unique\n",
    "    tmp_adata.obs = tmp_adata.obs.assign(**sample)\n",
    "    adatas[sample['sample']] = tmp_adata # assign sample_id to barcodes\n",
    "    \n",
    "# when concatenating all, columns in .var are somehow dropped\n",
    "# index_unique in .concat appends sample ids to barcodes\n",
    "adata = ad.concat(adatas, index_unique=\"_\")\n",
    "\n",
    "for k in key_save_l[1:]:\n",
    "    assert np.all(k==key_save_l[0])\n",
    "\n",
    "key = key_save_l[-1]\n",
    "\n",
    "# Use conversion key to re-assign symbols to ensembl ids\n",
    "adata.var.loc[key.index,'gene_ids'] = key.gene_ids"
   ]
  },
  {
   "cell_type": "markdown",
   "id": "9c3c0729-6baf-49bb-a5ba-d856e68b60ac",
   "metadata": {},
   "source": [
    "### Filter min requirements\n",
    "-> before any refined filtering only remove barcodes with less than 200 genes and genes found in less than 3 cells"
   ]
  },
  {
   "cell_type": "code",
   "execution_count": null,
   "id": "6fccc1f4-5d3f-41c8-afc5-1a6c0060de22",
   "metadata": {},
   "outputs": [],
   "source": [
    "# Basic filter thresholds\n",
    "sc.pp.filter_cells(adata, min_genes=200)\n",
    "sc.pp.filter_genes(adata, min_cells=3)"
   ]
  },
  {
   "cell_type": "markdown",
   "id": "c0cc7ca1",
   "metadata": {},
   "source": [
    "### Specify `adata.obs` factor levels/order"
   ]
  },
  {
   "cell_type": "code",
   "execution_count": null,
   "id": "1ea37291",
   "metadata": {},
   "outputs": [],
   "source": [
    "adata.obs[\"group\"] = pd.Categorical(adata.obs[\"group\"],\n",
    "                                     categories=['Ctrl', 'A8', 'A9', 'A8A9'])\n",
    "adata.obs[\"sample\"] = pd.Categorical(adata.obs[\"sample\"],\n",
    "                                     categories=adata.obs[\"sample\"].unique())\n",
    "adata.obs[\"patient\"] = pd.Categorical(adata.obs[\"patient\"])\n",
    "adata.obs[\"batch\"] = pd.Categorical(adata.obs[\"batch\"])"
   ]
  },
  {
   "cell_type": "code",
   "execution_count": null,
   "id": "e612f531-b723-49a8-9429-dbcd040d808c",
   "metadata": {},
   "outputs": [],
   "source": [
    "# Append \"sample_counts\" as column\n",
    "# First initialize with NAN and loop to fill values\n",
    "adata.obs['sample_counts'] = np.NaN\n",
    "for s in adata.obs[\"sample\"].cat.categories:\n",
    "    index_w_sel_sample = adata.obs.where(adata.obs['sample']==s).dropna(how='all').index\n",
    "    adata.obs.loc[index_w_sel_sample,\"sample_counts\"] = adata.obs['sample'].value_counts().loc[s]\n",
    "adata.obs['sample_counts'] = adata.obs['sample_counts'].astype(int)"
   ]
  },
  {
   "cell_type": "code",
   "execution_count": null,
   "id": "212f4693-f068-476a-8c42-e7df683579dc",
   "metadata": {},
   "outputs": [],
   "source": [
    "# Create new label column for plots: patient-batch + group + sample_counts\n",
    "adata.obs[\"label\"] = adata.obs['patient'].astype(str) + '-' + adata.obs['batch'].astype(str) + '\\n' + adata.obs['group'].astype(str) + '\\nn=' + adata.obs['sample_counts'].astype(str)\n",
    "\n",
    "# Get label factor levels as list in right order\n",
    "label_l = []\n",
    "for p in adata.obs.patient.cat.categories:\n",
    "    for g in adata.obs.group.cat.categories:\n",
    "        _sel_adata = adata.obs[(adata.obs.patient==p)&(adata.obs.group==g)]\n",
    "        c = _sel_adata['sample_counts'].unique()[0]\n",
    "        b = _sel_adata['batch'].unique()[0]\n",
    "        label_l.append(f'{p}-{b}\\n{g}\\nn={c}')\n",
    "        \n",
    "# Use created list to relevel label factor\n",
    "adata.obs[\"label\"] = pd.Categorical(adata.obs[\"label\"],\n",
    "                                        categories=label_l)"
   ]
  },
  {
   "cell_type": "code",
   "execution_count": null,
   "id": "d5d53b29-5237-47b6-bffe-2cad2dc09341",
   "metadata": {},
   "outputs": [],
   "source": [
    "# Create new label: patient + group\n",
    "adata.obs['label1'] = adata.obs['patient'].astype(str) + '\\n' + adata.obs['group'].astype(str)\n",
    "\n",
    "# Get label factor levels as list in right order\n",
    "label_l = []\n",
    "for p in adata.obs.patient.cat.categories:\n",
    "    for g in adata.obs.group.cat.categories:\n",
    "        label_l.append(f'{p}\\n{g}')\n",
    "        \n",
    "# Use created list to relevel label factor\n",
    "adata.obs[\"label1\"] = pd.Categorical(adata.obs[\"label1\"],\n",
    "                                     categories=label_l)"
   ]
  },
  {
   "cell_type": "code",
   "execution_count": null,
   "id": "b082f851-1a0b-49d8-bf4a-b4e4c00613d0",
   "metadata": {},
   "outputs": [],
   "source": [
    "# Create new label: patient-batch + group\n",
    "adata.obs[\"label2\"] = adata.obs['patient'].astype(str) + '-' + adata.obs['batch'].astype(str) + '\\n' + adata.obs['group'].astype(str)\n",
    "\n",
    "# Get label factor levels as list in right order\n",
    "label_l = []\n",
    "for p in adata.obs.patient.cat.categories:\n",
    "    for g in adata.obs.group.cat.categories:\n",
    "        for b in adata.obs.batch.cat.categories:\n",
    "            label_l.append(f'{p}-{b}\\n{g}')\n",
    "        \n",
    "# Use created list to relevel label factor\n",
    "adata.obs[\"label2\"] = pd.Categorical(adata.obs[\"label2\"],\n",
    "                                     categories=label_l)"
   ]
  },
  {
   "cell_type": "markdown",
   "id": "c5fabfdb",
   "metadata": {
    "tags": []
   },
   "source": [
    "### Relevel factor of existing adata"
   ]
  },
  {
   "cell_type": "code",
   "execution_count": null,
   "id": "861fcc96",
   "metadata": {},
   "outputs": [],
   "source": [
    "# Add .copy() to mute warning\n",
    "adata.obs[\"group\"] = adata.obs.group.cat.reorder_categories(['Ctrl', 'A8', 'A9', 'A8A9'])#.copy()"
   ]
  },
  {
   "cell_type": "markdown",
   "id": "f43e8443",
   "metadata": {},
   "source": [
    "### Look at dup indices"
   ]
  },
  {
   "cell_type": "markdown",
   "id": "fe1c50e4",
   "metadata": {},
   "source": [
    "#### Check unique gene ids/symbols(indices)"
   ]
  },
  {
   "cell_type": "code",
   "execution_count": null,
   "id": "ed55bed9",
   "metadata": {},
   "outputs": [],
   "source": [
    "# Number of unique gene ids\n",
    "len(adata.var['gene_ids'].unique())"
   ]
  },
  {
   "cell_type": "code",
   "execution_count": null,
   "id": "0e028743",
   "metadata": {},
   "outputs": [],
   "source": [
    "# Number of unique gene symbols/indices\n",
    "len(adata.var.index.unique())"
   ]
  },
  {
   "cell_type": "code",
   "execution_count": null,
   "id": "9349a1a2",
   "metadata": {},
   "outputs": [],
   "source": [
    "# Apparently some gene symbols are not unique\n",
    "adata.shape[1] - len(adata.var.index.unique())"
   ]
  },
  {
   "cell_type": "code",
   "execution_count": null,
   "id": "c96f5305",
   "metadata": {},
   "outputs": [],
   "source": [
    "# check if any indices contain a certain string (look for \"-\" as .var_names_make_unique appends -1, -2, etc. to duplicated gene symbols)\n",
    "for g in adata.var.index:\n",
    "    if '-' in g:\n",
    "        print(g)"
   ]
  },
  {
   "cell_type": "markdown",
   "id": "47a2c3b3-9c96-4ecd-bf02-e6ad1be36904",
   "metadata": {},
   "source": [
    "### Summary stats raw adata"
   ]
  },
  {
   "cell_type": "code",
   "execution_count": null,
   "id": "568dd2c3",
   "metadata": {},
   "outputs": [],
   "source": [
    "# Dimensions of adata - barcodes X Genes\n",
    "adata.shape"
   ]
  },
  {
   "cell_type": "code",
   "execution_count": null,
   "id": "281d424f-2d9d-4147-8236-1b851cb2c77d",
   "metadata": {},
   "outputs": [],
   "source": [
    "# Orders highest to lowest\n",
    "print(adata.obs['sample'].value_counts())\n",
    "print('')\n",
    "print(adata.obs['patient'].value_counts())\n",
    "print('')\n",
    "print(adata.obs['group'].value_counts())\n",
    "print('')\n",
    "print(adata.obs['sex'].value_counts())\n",
    "print('')\n",
    "print(adata.obs['batch'].value_counts())"
   ]
  },
  {
   "cell_type": "code",
   "execution_count": null,
   "id": "7b91fa83-1145-4920-bed7-6fc57d68ca11",
   "metadata": {},
   "outputs": [],
   "source": [
    "# Look at .obs subset \n",
    "adata.obs[['label', 'sample_counts', 'patient']]"
   ]
  },
  {
   "cell_type": "markdown",
   "id": "d2c5d3d1",
   "metadata": {},
   "source": [
    "### Plots: All samples - Basic summary stats\n",
    "- highest_expr_genes\n",
    "- violin plots:\n",
    "    - genes by counts\n",
    "    - total counts\n",
    "    - mitochondrial counts [per]"
   ]
  },
  {
   "cell_type": "code",
   "execution_count": null,
   "id": "29372057",
   "metadata": {},
   "outputs": [],
   "source": [
    "sc.pl.highest_expr_genes(adata, n_top=20)"
   ]
  },
  {
   "cell_type": "code",
   "execution_count": null,
   "id": "4f5f6f2d",
   "metadata": {},
   "outputs": [],
   "source": [
    "# Calculate QC metrics for all samples\n",
    "adata.var['mt'] = adata.var_names.str.startswith('MT-')  # annotate the group of mitochondrial genes as 'mt'\n",
    "sc.pp.calculate_qc_metrics(adata, qc_vars=['mt'], percent_top=None, log1p=False, inplace=True)"
   ]
  },
  {
   "cell_type": "markdown",
   "id": "e2f888c1-8926-44aa-ac43-920da18605d8",
   "metadata": {},
   "source": [
    "## Subset adata by multiple samples"
   ]
  },
  {
   "cell_type": "code",
   "execution_count": null,
   "id": "1c8eb8e9-78a6-4d96-9a49-ce0715020b47",
   "metadata": {},
   "outputs": [],
   "source": [
    "# Subset adata for samples 1 to 16\n",
    "\n",
    "# Make copy, save index (barcodes) to column, set samples as index\n",
    "_adata_subset = adata.copy()\n",
    "_adata_subset.obs['barcodes'] = _adata_subset.obs.index\n",
    "_adata_subset.obs.index = _adata_subset.obs['sample']\n",
    "\n",
    "start=0\n",
    "end=16\n",
    "barcodes_sel = _adata_subset.obs.loc[_adata_subset.obs['sample'].cat.categories[start:end]].barcodes\n",
    "\n",
    "adata.obs['col_sel'] = False\n",
    "adata.obs.loc[barcodes_sel,'col_sel'] = True\n",
    "\n",
    "adata_subset = adata[adata.obs.col_sel]"
   ]
  },
  {
   "cell_type": "code",
   "execution_count": null,
   "id": "18af4ea4-a5a3-4772-ae74-71e000e15c3d",
   "metadata": {},
   "outputs": [],
   "source": [
    "# Subset adata for only Ctrls - much easier as not selcting multiple\n",
    "adata_subset_ctrl = adata[adata.obs.group == 'Ctrl']"
   ]
  },
  {
   "cell_type": "code",
   "execution_count": null,
   "id": "126e476a",
   "metadata": {},
   "outputs": [],
   "source": [
    "sc.pl.violin(adata, ['n_genes_by_counts', 'total_counts', 'pct_counts_mt'],\n",
    "             jitter=0.4, multi_panel=True)"
   ]
  },
  {
   "cell_type": "code",
   "execution_count": null,
   "id": "06dfe61c-ecdb-4757-935e-2d57d472ce6c",
   "metadata": {},
   "outputs": [],
   "source": [
    "fig, ax = plt.subplots(1,1,figsize=(30,10))\n",
    "sc.pl.violin(adata_subset, 'total_counts', groupby='label', size=2, log=True, cut=0, ax=ax)\n",
    "fig.savefig(f\"{fig_dir}/01-Violin_total_counts_raw_sub.pdf\", bbox_inches=\"tight\")"
   ]
  },
  {
   "cell_type": "code",
   "execution_count": null,
   "id": "55a24dd9-6bc2-46ba-8290-0154e8e93a50",
   "metadata": {},
   "outputs": [],
   "source": [
    "fig, ax = plt.subplots(1,1,figsize=(30,10))\n",
    "sc.pl.violin(adata_subset, 'pct_counts_mt', groupby='label', ax=ax)\n",
    "fig.savefig(f\"{fig_dir}/01-Violin_pct_counts_mt_raw_sub.pdf\", bbox_inches=\"tight\")"
   ]
  },
  {
   "cell_type": "markdown",
   "id": "11f86aa9-c353-40a9-820d-0d943855beeb",
   "metadata": {},
   "source": [
    "### Plot weird samples"
   ]
  },
  {
   "cell_type": "code",
   "execution_count": null,
   "id": "6ce83d95-9d5b-4c7e-9ae0-1ac86ad51105",
   "metadata": {},
   "outputs": [],
   "source": [
    "# Subset adata for samples 1 to 16\n",
    "\n",
    "# Make copy, save index (barcodes) to column, set samples as index\n",
    "_adata_subset = adata.copy()\n",
    "_adata_subset.obs['barcodes'] = _adata_subset.obs.index\n",
    "_adata_subset.obs.index = _adata_subset.obs['sample']\n",
    "\n",
    "start=16\n",
    "end=37\n",
    "barcodes_sel = _adata_subset.obs.loc[_adata_subset.obs['sample'].cat.categories[start:end]].barcodes\n",
    "\n",
    "adata.obs['col_sel'] = False\n",
    "adata.obs.loc[barcodes_sel,'col_sel'] = True\n",
    "\n",
    "adata_subset2 = adata[adata.obs.col_sel]"
   ]
  },
  {
   "cell_type": "code",
   "execution_count": null,
   "id": "1b5277bd-edbf-4730-a054-03456ed07053",
   "metadata": {},
   "outputs": [],
   "source": [
    "fig, ax = plt.subplots(1,1,figsize=(30,10))\n",
    "sc.pl.violin(adata_subset2, 'total_counts', groupby='label', size=2, log=True, cut=0, ax=ax)\n",
    "fig.savefig(f\"{fig_dir}/01-Violin_total_counts_raw_sub2.pdf\", bbox_inches=\"tight\")"
   ]
  },
  {
   "cell_type": "code",
   "execution_count": null,
   "id": "82dc49bb-ac2c-4341-a703-40633461d556",
   "metadata": {},
   "outputs": [],
   "source": [
    "fig, ax = plt.subplots(1,1,figsize=(30,10))\n",
    "sc.pl.violin(adata_subset2, 'pct_counts_mt', groupby='label', ax=ax)\n",
    "fig.savefig(f\"{fig_dir}/01-Violin_pct_counts_mt_raw_sub2.pdf\", bbox_inches=\"tight\")"
   ]
  },
  {
   "cell_type": "markdown",
   "id": "3cc7759d-fd30-4e5e-8657-164a8d9209ff",
   "metadata": {},
   "source": [
    "### Write AnnData object to disk"
   ]
  },
  {
   "cell_type": "code",
   "execution_count": null,
   "id": "bd91a68c-8817-4d22-860b-031f945b472f",
   "metadata": {},
   "outputs": [],
   "source": [
    "# Save h5ad\n",
    "adata.write('../../results/produced_data/scRNAseq/raw_calprotectin.h5ad', compression='gzip')\n",
    "!h5ls '../../results/produced_data/scRNAseq/raw_calprotectin.h5ad'"
   ]
  },
  {
   "cell_type": "code",
   "execution_count": null,
   "id": "c673d95b-f5f8-480f-8799-7bce11605b93",
   "metadata": {},
   "outputs": [],
   "source": [
    "# Save h5ad\n",
    "adata_subset.write('../../results/produced_data/scRNAseq/raw_sub_calprotectin.h5ad', compression='gzip')\n",
    "!h5ls '../../results/produced_data/scRNAseq/raw_sub_calprotectin.h5ad'"
   ]
  },
  {
   "cell_type": "markdown",
   "id": "a24aa7a8-61e6-4c5d-9270-cc999ad44286",
   "metadata": {},
   "source": [
    "## Subset adata for ith sample and return adata"
   ]
  },
  {
   "cell_type": "code",
   "execution_count": null,
   "id": "86900926-7365-45b4-b1e4-c3a7fcad2784",
   "metadata": {},
   "outputs": [],
   "source": [
    "# Subset for any factor level in obs\n",
    "sample_AJ1 = adata[adata.obs[\"sample\"] == \"AJ1\", :]\n",
    "sample_AJ1.obs[\"value\"] = 0  # This makes AJ1 a “real” AnnData object"
   ]
  },
  {
   "cell_type": "code",
   "execution_count": null,
   "id": "86f583d1-297f-4bcc-bd81-277434718529",
   "metadata": {},
   "outputs": [],
   "source": [
    "sample_AJ1"
   ]
  },
  {
   "cell_type": "code",
   "execution_count": null,
   "id": "2a7f05d8-4054-44b6-9063-48b3570803c1",
   "metadata": {},
   "outputs": [],
   "source": [
    "# sample_Aj1 adata can now be used in the same way as the main adata\n",
    "sc.pl.violin(sample_AJ1, ['n_genes_by_counts', 'total_counts', 'pct_counts_mt'],\n",
    "             jitter=0.4, multi_panel=True)"
   ]
  },
  {
   "cell_type": "markdown",
   "id": "fe5a2008",
   "metadata": {},
   "source": [
    "## Automate for every sample\n",
    "-> plot summary figures for every iundividual sample in adata seperately."
   ]
  },
  {
   "cell_type": "code",
   "execution_count": null,
   "id": "972579cc",
   "metadata": {},
   "outputs": [],
   "source": [
    "sample_d = dict()\n",
    "for s in adata.obs['sample'].values.unique():\n",
    "    _sampli = adata[adata.obs[\"sample\"] == s, :]\n",
    "    _sampli.obs[\"value\"] = 0\n",
    "    sample_d[s] = _sampli"
   ]
  },
  {
   "cell_type": "code",
   "execution_count": null,
   "id": "afa27745-ed90-4c8a-8f69-c8d27cc4b9ff",
   "metadata": {},
   "outputs": [],
   "source": [
    "sample_d[s]"
   ]
  },
  {
   "cell_type": "code",
   "execution_count": null,
   "id": "8086b5fd-3a01-4034-aa1a-5ce2966f8458",
   "metadata": {},
   "outputs": [],
   "source": [
    "for s in adata.obs['sample'].values.unique():\n",
    "    print(s)\n",
    "    sc.pl.violin(sample_d[s], ['n_genes_by_counts', 'total_counts', 'pct_counts_mt'],\n",
    "             jitter=0.4, multi_panel=True)"
   ]
  },
  {
   "cell_type": "code",
   "execution_count": null,
   "id": "5e74b0dc-5bd3-47d3-8346-6e9dfe261958",
   "metadata": {},
   "outputs": [],
   "source": [
    "# Filter thresholds for individual samples\n",
    "sc.pp.filter_cells(sample_d['AJ1'], min_genes=200)\n",
    "sc.pp.filter_cells(sample_d['AJ2'], min_genes=1000)"
   ]
  },
  {
   "cell_type": "markdown",
   "id": "a163109f",
   "metadata": {},
   "source": [
    "### Concat all samples back to one adata"
   ]
  },
  {
   "cell_type": "code",
   "execution_count": null,
   "id": "c74d682c-0d56-464a-8f0e-ace18e911dad",
   "metadata": {},
   "outputs": [],
   "source": [
    "# After filtering individual samples concat to make one adata object\n",
    "adatas_new_l = []\n",
    "for s in adata.obs['sample'].values.unique():\n",
    "    adatas_new_l.append(sample_d[s])\n",
    "adata_filtered = anndata.concat(adatas_new_l, index_unique=\"_\")"
   ]
  },
  {
   "cell_type": "code",
   "execution_count": null,
   "id": "dd2ca73a-463e-4748-9a82-fff5c43229ca",
   "metadata": {},
   "outputs": [],
   "source": [
    "adata_filtered"
   ]
  },
  {
   "cell_type": "markdown",
   "id": "6e91cec3",
   "metadata": {},
   "source": [
    "#### Look at table for single obs"
   ]
  },
  {
   "cell_type": "code",
   "execution_count": null,
   "id": "6c9f1c02-1c43-4a2d-adac-0ee8fadea363",
   "metadata": {},
   "outputs": [],
   "source": [
    "adata[adata.obs.sample == \"AJ1\"].var"
   ]
  }
 ],
 "metadata": {
  "kernelspec": {
   "display_name": "Python [conda env:.conda-calpro-py]",
   "language": "python",
   "name": "conda-env-.conda-calpro-py-py"
  },
  "language_info": {
   "codemirror_mode": {
    "name": "ipython",
    "version": 3
   },
   "file_extension": ".py",
   "mimetype": "text/x-python",
   "name": "python",
   "nbconvert_exporter": "python",
   "pygments_lexer": "ipython3",
   "version": "3.10.6"
  },
  "vscode": {
   "interpreter": {
    "hash": "aee8b7b246df8f9039afb4144a1f6fd8d2ca17a180786b69acc140d282b71a49"
   }
  }
 },
 "nbformat": 4,
 "nbformat_minor": 5
}
