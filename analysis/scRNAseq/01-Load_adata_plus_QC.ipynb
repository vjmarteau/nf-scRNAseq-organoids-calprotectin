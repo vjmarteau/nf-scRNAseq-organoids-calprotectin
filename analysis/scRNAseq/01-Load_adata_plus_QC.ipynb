{
 "cells": [
  {
   "cell_type": "markdown",
   "id": "62d47896-990f-4e24-9dc5-e1838e3305f3",
   "metadata": {},
   "source": [
    "# Calprotectin organoids:"
   ]
  },
  {
   "cell_type": "markdown",
   "id": "8baa8a2c",
   "metadata": {},
   "source": [
    "## 1. Load scRNAseq data\n",
    "Load cellranger output matrices and concatenate all samples to single adata"
   ]
  },
  {
   "cell_type": "code",
   "execution_count": null,
   "id": "0bebe134-6d2a-4b9e-982f-8fb5c6a13566",
   "metadata": {},
   "outputs": [],
   "source": [
    "import os\n",
    "import gzip\n",
    "import anndata\n",
    "import scanpy as sc\n",
    "import scipy as sp\n",
    "import numpy as np\n",
    "import pandas as pd\n",
    "import seaborn as sns\n",
    "import matplotlib.pyplot as plt\n",
    "sc.settings.set_figure_params(figsize=(5,5))"
   ]
  },
  {
   "cell_type": "markdown",
   "id": "187e2c5b",
   "metadata": {},
   "source": [
    "### Get metadata\n",
    "This project had to be repeated due to technical issues with 10x. I will load both runs anyway."
   ]
  },
  {
   "cell_type": "code",
   "execution_count": null,
   "id": "c839862c-7f38-4000-8bfd-2dffd21d89c3",
   "metadata": {},
   "outputs": [],
   "source": [
    "# New run\n",
    "# Get metadata from samplesheet\n",
    "meta = pd.read_csv('../../tables/samplesheet.csv')\n",
    "meta.drop(axis='columns', labels=['fastq_1', 'fastq_2'], inplace=True)\n",
    "\n",
    "# Reorder by Sample ID, drop double columns, and update index\n",
    "sample_idx = []\n",
    "for s in meta['sample'].values:\n",
    "    sample_idx.append(int(s[2:]))\n",
    "\n",
    "meta['sample_idx'] = sample_idx\n",
    "meta = meta.sort_values('sample_idx')\n",
    "meta.index = meta.sample_idx\n",
    "meta=meta.drop(columns=['sample_idx'])"
   ]
  },
  {
   "cell_type": "code",
   "execution_count": null,
   "id": "0799e446",
   "metadata": {},
   "outputs": [],
   "source": [
    "# Old run\n",
    "# Get metadata from samplesheet\n",
    "meta_old = pd.read_csv('../../tables/samplesheet_old.csv')\n",
    "meta_old.drop(axis='columns', labels=['fastq_1', 'fastq_2'], inplace=True)\n",
    "\n",
    "# Reorder by Sample ID, drop double columns, and update index\n",
    "sample_idx = []\n",
    "for s in meta_old['sample'].values:\n",
    "    sample_idx.append(int(s[2:]))\n",
    "\n",
    "meta_old['sample_idx'] = sample_idx\n",
    "meta_old = meta_old.sort_values('sample_idx')\n",
    "meta_old.index = meta_old.sample_idx\n",
    "meta_old=meta_old.drop(columns=['sample_idx'])"
   ]
  },
  {
   "cell_type": "markdown",
   "id": "100dde0e",
   "metadata": {},
   "source": [
    "### Save/Load meta table as/from csv"
   ]
  },
  {
   "cell_type": "code",
   "execution_count": null,
   "id": "06416163",
   "metadata": {},
   "outputs": [],
   "source": [
    "pd.concat([meta,meta_old])"
   ]
  },
  {
   "cell_type": "code",
   "execution_count": null,
   "id": "8cc4bc65",
   "metadata": {},
   "outputs": [],
   "source": [
    "# Make single table with all samples old/new\n",
    "# Save to path\n",
    "pd.concat([meta,meta_old]).to_csv('../../results/produced_data/scRNAseq/metadata.csv')\n",
    "\n",
    "# Load from path\n",
    "pd.read_csv('../../results/produced_data/scRNAseq/metadata.csv', index_col=0)"
   ]
  },
  {
   "cell_type": "markdown",
   "id": "d7912c1f",
   "metadata": {},
   "source": [
    "### Load features.tsv.gz from single sample"
   ]
  },
  {
   "cell_type": "code",
   "execution_count": null,
   "id": "3ef1b83d",
   "metadata": {},
   "outputs": [],
   "source": [
    "# This should be equivalent for every sample\n",
    "features_path = f\"/data/projects/2022/Adolph-scRNA-organoids/01_nfcore_scrnaseq/cellranger/sample-AJ10/outs/filtered_feature_bc_matrix/features.tsv.gz\"\n",
    "genes = pd.read_csv(gzip.open(features_path, mode=\"rt\"), delimiter=\"\\t\", header=None)\n",
    "genes.drop(genes.columns[[2]], axis=1, inplace=True)\n",
    "genes.rename(columns={0:'gene_id', 1: 'gene_symbol'}, inplace=True)\n",
    "genes.set_index('gene_symbol', inplace=True)"
   ]
  },
  {
   "cell_type": "code",
   "execution_count": null,
   "id": "760cd48d",
   "metadata": {},
   "outputs": [],
   "source": [
    "genes"
   ]
  },
  {
   "cell_type": "markdown",
   "id": "f87d0d29",
   "metadata": {},
   "source": [
    "## Load cellranger output to single adata"
   ]
  },
  {
   "cell_type": "markdown",
   "id": "6cd353d5",
   "metadata": {},
   "source": [
    "### 1. adata.obs `gene_ids as index`, symbols as column\n",
    "This way there should be no identical indices.\n",
    "<br>\n",
    "**Note:** Mitochondrial genes do not work as only symbols have `MT-` string in name!\n",
    "<br>\n",
    "### **-> Skip this block and use symbols as indices below!!!**"
   ]
  },
  {
   "cell_type": "code",
   "execution_count": null,
   "id": "d048c6e3-42c4-4d21-bb9c-11926b5741e6",
   "metadata": {},
   "outputs": [],
   "source": [
    "# Version 1: Use ensembl gene_ids as index\n",
    "# Iterate over sample h5ads and concatenate\n",
    "p_dir=\"/data/projects/2022/Adolph-scRNA-organoids\"\n",
    "adatas = dict()\n",
    "key_save_l = []\n",
    "# Use conditional statement to discriminate between new and old samples\n",
    "for sample in pd.concat([meta,meta_old]).to_dict(orient=\"records\"):\n",
    "    if 'AJ' in sample['sample']:\n",
    "        p_h5ads = f\"{p_dir}/01_nfcore_scrnaseq/cellranger/sample-{sample['sample']}/outs/filtered_feature_bc_matrix.h5\"\n",
    "    elif 'TA' in sample['sample']:\n",
    "        p_h5ads = f\"{p_dir}/01_cellranger/cellranger/sample-{sample['sample']}/outs/filtered_feature_bc_matrix.h5\"\n",
    "    else:\n",
    "         print(sample['sample'])\n",
    "    tmp_adata = sc.read_10x_h5(p_h5ads)\n",
    "                                             \n",
    "    # save gene conversion key and switch index to ensembl ids before making unique\n",
    "    key_save_l.append(tmp_adata.var.copy())\n",
    "    tmp_adata.var['gene_symbols'] = tmp_adata.var.index\n",
    "    tmp_adata.var.index = tmp_adata.var.gene_ids\n",
    "    tmp_adata.var = tmp_adata.var.drop(columns=['gene_symbols','feature_types','genome'])\n",
    "    tmp_adata.var_names_make_unique()\n",
    "    assert tmp_adata.obs_names.is_unique\n",
    "    tmp_adata.obs = tmp_adata.obs.assign(**sample)\n",
    "    adatas[sample['sample']] = tmp_adata # assign sample_id to barcodes\n",
    "    \n",
    "# when concatenating all, columns in .var are somehow dropped\n",
    "# index_unique in .concat appends sample ids to barcodes\n",
    "adata = anndata.concat(adatas, index_unique=\"_\")\n",
    "\n",
    "for k in key_save_l[1:]:\n",
    "    assert np.all(k==key_save_l[0])\n",
    "\n",
    "key = key_save_l[-1]\n",
    "key= key.reset_index()\n",
    "key.index=key.gene_ids\n",
    "\n",
    "# Use conversion key to re-assign symbols to ensembl ids\n",
    "adata.var['gene_symbols'] = key.loc[adata.var.index]['index']"
   ]
  },
  {
   "cell_type": "markdown",
   "id": "429fc91d",
   "metadata": {},
   "source": [
    "### 2. `Symbols as index`, gene_ids as column\n",
    "Dup symbols are appended with -1, -2, etc. using `var_names_make_unique()`\n",
    "<br>\n",
    "### **-> Use this for QC!!!**"
   ]
  },
  {
   "cell_type": "code",
   "execution_count": null,
   "id": "4dca1898",
   "metadata": {},
   "outputs": [],
   "source": [
    "# Iterate over sample h5ads and concatenate\n",
    "p_dir=\"/data/projects/2022/Adolph-scRNA-organoids\"\n",
    "adatas = dict()\n",
    "key_save_l = []\n",
    "# Use conditional statement to discriminate between new and old samples\n",
    "for sample in pd.concat([meta,meta_old]).to_dict(orient=\"records\"):\n",
    "    if 'AJ' in sample['sample']:\n",
    "        p_h5ads = f\"{p_dir}/01_nfcore_scrnaseq/cellranger/sample-{sample['sample']}/outs/filtered_feature_bc_matrix.h5\"\n",
    "    elif 'TA' in sample['sample']:\n",
    "        p_h5ads = f\"{p_dir}/01_cellranger/cellranger/sample-{sample['sample']}/outs/filtered_feature_bc_matrix.h5\"\n",
    "    else:\n",
    "         print(sample['sample'])\n",
    "    tmp_adata = sc.read_10x_h5(p_h5ads)\n",
    "                                             \n",
    "    # save gene conversion key and switch index to ensembl ids before making unique\n",
    "    key_save_l.append(tmp_adata.var.copy())\n",
    "    tmp_adata.var = tmp_adata.var.drop(columns=['feature_types','genome'])\n",
    "    tmp_adata.var_names_make_unique()\n",
    "    assert tmp_adata.obs_names.is_unique\n",
    "    tmp_adata.obs = tmp_adata.obs.assign(**sample)\n",
    "    adatas[sample['sample']] = tmp_adata # assign sample_id to barcodes\n",
    "    \n",
    "# when concatenating all, columns in .var are somehow dropped\n",
    "# index_unique in .concat appends sample ids to barcodes\n",
    "adata = anndata.concat(adatas, index_unique=\"_\")\n",
    "\n",
    "for k in key_save_l[1:]:\n",
    "    assert np.all(k==key_save_l[0])\n",
    "\n",
    "key = key_save_l[-1]\n",
    "\n",
    "# Use conversion key to re-assign symbols to ensembl ids\n",
    "adata.var.loc[key.index,'gene_ids'] = key.gene_ids"
   ]
  },
  {
   "cell_type": "markdown",
   "id": "f43e8443",
   "metadata": {},
   "source": [
    "### Look at dup indices"
   ]
  },
  {
   "cell_type": "markdown",
   "id": "fe1c50e4",
   "metadata": {},
   "source": [
    "#### Check unique gene ids/symbols(indices)"
   ]
  },
  {
   "cell_type": "code",
   "execution_count": null,
   "id": "ed55bed9",
   "metadata": {},
   "outputs": [],
   "source": [
    "# Number of unique gene ids\n",
    "len(adata.var['gene_ids'].unique())"
   ]
  },
  {
   "cell_type": "code",
   "execution_count": null,
   "id": "0e028743",
   "metadata": {},
   "outputs": [],
   "source": [
    "# Number of unique gene symbols/indices\n",
    "len(adata.var.index.unique())"
   ]
  },
  {
   "cell_type": "code",
   "execution_count": null,
   "id": "9349a1a2",
   "metadata": {},
   "outputs": [],
   "source": [
    "# Apparently some gene symbols are not unique\n",
    "adata.shape[1] - len(adata.var.index.unique())"
   ]
  },
  {
   "cell_type": "code",
   "execution_count": null,
   "id": "c96f5305",
   "metadata": {},
   "outputs": [],
   "source": [
    "# check if any indices contain a certain string (look for \"-\" as .var_names_make_unique appends -1, -2, etc. to duplicated gene symbols)\n",
    "for g in adata.var.index:\n",
    "    if '-' in g:\n",
    "        print(g)"
   ]
  },
  {
   "cell_type": "markdown",
   "id": "47a2c3b3-9c96-4ecd-bf02-e6ad1be36904",
   "metadata": {},
   "source": [
    "### Summary stats raw adata\n",
    "-> before any refined filtering only remove barcodes with less than 200 genes and genes found in less than 3 cells"
   ]
  },
  {
   "cell_type": "code",
   "execution_count": null,
   "id": "a54b162f",
   "metadata": {},
   "outputs": [],
   "source": [
    "# Basic filter thresholds\n",
    "sc.pp.filter_cells(adata, min_genes=200)\n",
    "sc.pp.filter_genes(adata, min_cells=3)"
   ]
  },
  {
   "cell_type": "code",
   "execution_count": null,
   "id": "568dd2c3",
   "metadata": {},
   "outputs": [],
   "source": [
    "# Dimensions of adata - barcodes X Genes\n",
    "adata.shape"
   ]
  },
  {
   "cell_type": "code",
   "execution_count": null,
   "id": "281d424f-2d9d-4147-8236-1b851cb2c77d",
   "metadata": {},
   "outputs": [],
   "source": [
    "print(adata.obs['sample'].value_counts())\n",
    "print('')\n",
    "print(adata.obs['patient'].value_counts())\n",
    "print('')\n",
    "print(adata.obs['group'].value_counts())\n",
    "print('')\n",
    "print(adata.obs['sex'].value_counts())\n",
    "print('')\n",
    "print(adata.obs['batch'].value_counts())"
   ]
  },
  {
   "cell_type": "markdown",
   "id": "d2c5d3d1",
   "metadata": {},
   "source": [
    "### Plots: All samples - Basic summary stats\n",
    "- highest_expr_genes\n",
    "- violin plots:\n",
    "    - genes by counts\n",
    "    - total counts\n",
    "    - mitochondrial counts [per]"
   ]
  },
  {
   "cell_type": "code",
   "execution_count": null,
   "id": "29372057",
   "metadata": {},
   "outputs": [],
   "source": [
    "sc.pl.highest_expr_genes(adata, n_top=20)"
   ]
  },
  {
   "cell_type": "code",
   "execution_count": null,
   "id": "4f5f6f2d",
   "metadata": {},
   "outputs": [],
   "source": [
    "# Calculate QC metrics for all samples\n",
    "adata.var['mt'] = adata.var_names.str.startswith('MT-')  # annotate the group of mitochondrial genes as 'mt'\n",
    "sc.pp.calculate_qc_metrics(adata, qc_vars=['mt'], percent_top=None, log1p=False, inplace=True)"
   ]
  },
  {
   "cell_type": "code",
   "execution_count": null,
   "id": "126e476a",
   "metadata": {},
   "outputs": [],
   "source": [
    "sc.pl.violin(adata, ['n_genes_by_counts', 'total_counts', 'pct_counts_mt'],\n",
    "             jitter=0.4, multi_panel=True)"
   ]
  },
  {
   "cell_type": "markdown",
   "id": "a24aa7a8-61e6-4c5d-9270-cc999ad44286",
   "metadata": {},
   "source": [
    "## Subset adata for ith sample and return adata"
   ]
  },
  {
   "cell_type": "code",
   "execution_count": null,
   "id": "86900926-7365-45b4-b1e4-c3a7fcad2784",
   "metadata": {},
   "outputs": [],
   "source": [
    "# Subset for any factor level in obs\n",
    "sample_AJ1 = adata[adata.obs[\"sample\"] == \"AJ1\", :]\n",
    "sample_AJ1.obs[\"value\"] = 0  # This makes AJ1 a “real” AnnData object"
   ]
  },
  {
   "cell_type": "code",
   "execution_count": null,
   "id": "86f583d1-297f-4bcc-bd81-277434718529",
   "metadata": {},
   "outputs": [],
   "source": [
    "sample_AJ1"
   ]
  },
  {
   "cell_type": "code",
   "execution_count": null,
   "id": "2a7f05d8-4054-44b6-9063-48b3570803c1",
   "metadata": {},
   "outputs": [],
   "source": [
    "# sample_Aj1 adata can now be used in the same way as the main adata\n",
    "sc.pl.violin(sample_AJ1, ['n_genes_by_counts', 'total_counts', 'pct_counts_mt'],\n",
    "             jitter=0.4, multi_panel=True)"
   ]
  },
  {
   "cell_type": "markdown",
   "id": "fe5a2008",
   "metadata": {},
   "source": [
    "## Automate for every sample\n",
    "-> plot summary figures for every iundividual sample in adata seperately."
   ]
  },
  {
   "cell_type": "code",
   "execution_count": null,
   "id": "972579cc",
   "metadata": {},
   "outputs": [],
   "source": [
    "sample_d = dict()\n",
    "for s in adata.obs['sample'].values.unique():\n",
    "    _sampli = adata[adata.obs[\"sample\"] == s, :]\n",
    "    _sampli.obs[\"value\"] = 0\n",
    "    sample_d[s] = _sampli"
   ]
  },
  {
   "cell_type": "code",
   "execution_count": null,
   "id": "afa27745-ed90-4c8a-8f69-c8d27cc4b9ff",
   "metadata": {},
   "outputs": [],
   "source": [
    "sample_d[s]"
   ]
  },
  {
   "cell_type": "code",
   "execution_count": null,
   "id": "8086b5fd-3a01-4034-aa1a-5ce2966f8458",
   "metadata": {},
   "outputs": [],
   "source": [
    "for s in adata.obs['sample'].values.unique():\n",
    "    print(s)\n",
    "    sc.pl.violin(sample_d[s], ['n_genes_by_counts', 'total_counts', 'pct_counts_mt'],\n",
    "             jitter=0.4, multi_panel=True)"
   ]
  },
  {
   "cell_type": "code",
   "execution_count": null,
   "id": "5e74b0dc-5bd3-47d3-8346-6e9dfe261958",
   "metadata": {},
   "outputs": [],
   "source": [
    "# Filter thresholds for individual samples\n",
    "sc.pp.filter_cells(sample_d['AJ1'], min_genes=200)\n",
    "sc.pp.filter_cells(sample_d['AJ2'], min_genes=1000)"
   ]
  },
  {
   "cell_type": "markdown",
   "id": "a163109f",
   "metadata": {},
   "source": [
    "### Concat all samples back to one adata"
   ]
  },
  {
   "cell_type": "code",
   "execution_count": null,
   "id": "c74d682c-0d56-464a-8f0e-ace18e911dad",
   "metadata": {},
   "outputs": [],
   "source": [
    "# After filtering individual samples concat to make one adata object\n",
    "adatas_new_l = []\n",
    "for s in adata.obs['sample'].values.unique():\n",
    "    adatas_new_l.append(sample_d[s])\n",
    "adata_filtered = anndata.concat(adatas_new_l, index_unique=\"_\")"
   ]
  },
  {
   "cell_type": "code",
   "execution_count": null,
   "id": "dd2ca73a-463e-4748-9a82-fff5c43229ca",
   "metadata": {},
   "outputs": [],
   "source": [
    "adata_filtered"
   ]
  },
  {
   "cell_type": "markdown",
   "id": "6e91cec3",
   "metadata": {},
   "source": [
    "#### Look at table for single obs"
   ]
  },
  {
   "cell_type": "code",
   "execution_count": null,
   "id": "6c9f1c02-1c43-4a2d-adac-0ee8fadea363",
   "metadata": {},
   "outputs": [],
   "source": [
    "adata[adata.obs.sample == \"AJ1\"].var"
   ]
  }
 ],
 "metadata": {
  "kernelspec": {
   "display_name": "Python 3.10.7 64-bit",
   "language": "python",
   "name": "python3"
  },
  "language_info": {
   "codemirror_mode": {
    "name": "ipython",
    "version": 3
   },
   "file_extension": ".py",
   "mimetype": "text/x-python",
   "name": "python",
   "nbconvert_exporter": "python",
   "pygments_lexer": "ipython3",
   "version": "3.10.7"
  },
  "vscode": {
   "interpreter": {
    "hash": "aee8b7b246df8f9039afb4144a1f6fd8d2ca17a180786b69acc140d282b71a49"
   }
  }
 },
 "nbformat": 4,
 "nbformat_minor": 5
}
