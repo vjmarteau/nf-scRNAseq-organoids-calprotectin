{
 "cells": [
  {
   "cell_type": "markdown",
   "id": "62d47896-990f-4e24-9dc5-e1838e3305f3",
   "metadata": {},
   "source": [
    "# scRNAseq Calprotectin organoids\n",
    "## 1. Load adata"
   ]
  },
  {
   "cell_type": "code",
   "execution_count": null,
   "id": "0bebe134-6d2a-4b9e-982f-8fb5c6a13566",
   "metadata": {},
   "outputs": [],
   "source": [
    "import os\n",
    "import gzip\n",
    "import anndata\n",
    "import scanpy as sc\n",
    "import scipy as sp\n",
    "import numpy as np\n",
    "import pandas as pd\n",
    "import seaborn as sns\n",
    "import matplotlib.pyplot as plt\n",
    "sc.settings.set_figure_params(figsize=(5,5))"
   ]
  },
  {
   "cell_type": "code",
   "execution_count": null,
   "id": "c839862c-7f38-4000-8bfd-2dffd21d89c3",
   "metadata": {},
   "outputs": [],
   "source": [
    "# Get metadata from samplesheet\n",
    "meta = pd.read_csv('../../tables/samplesheet.csv')\n",
    "meta.drop(axis='columns', labels=['fastq_1', 'fastq_2'], inplace=True)\n",
    "\n",
    "# Reorder by Sample ID, drop double columns, and update index\n",
    "sample_idx = []\n",
    "for s in meta['sample'].values:\n",
    "    sample_idx.append(int(s[2:]))\n",
    "\n",
    "meta['sample_idx'] = sample_idx\n",
    "meta = meta.sort_values('sample_idx')\n",
    "meta.index = meta.sample_idx\n",
    "meta=meta.drop(columns=['sample_idx'])"
   ]
  },
  {
   "cell_type": "code",
   "execution_count": null,
   "id": "d048c6e3-42c4-4d21-bb9c-11926b5741e6",
   "metadata": {},
   "outputs": [],
   "source": [
    "# Iterate over sample h5ads and concatenate\n",
    "adatas = dict()\n",
    "key_save_l = []\n",
    "for sample in meta.to_dict(orient=\"records\"):\n",
    "    tmp_adata = sc.read_10x_h5(\n",
    "        f\"/data/projects/2022/Adolph-scRNA-organoids/01_nfcore_scrnaseq/cellranger/sample-{sample['sample']}/outs/filtered_feature_bc_matrix.h5\"\n",
    "    )\n",
    "    # save gene conversion key and switch index to ensembl ids before making unique\n",
    "    key_save_l.append(tmp_adata.var.copy())\n",
    "    tmp_adata.var['gene_symbols'] = tmp_adata.var.index\n",
    "    tmp_adata.var.index = tmp_adata.var.gene_ids\n",
    "    tmp_adata.var = tmp_adata.var.drop(columns=['gene_symbols','feature_types','genome'])\n",
    "    tmp_adata.var_names_make_unique()\n",
    "    assert tmp_adata.obs_names.is_unique\n",
    "    tmp_adata.obs = tmp_adata.obs.assign(**sample)\n",
    "    adatas[sample['sample']] = tmp_adata # assign sample_id to barcodes\n",
    "\n",
    "# when concatenating all, columns in .var are somehow dropped\n",
    "# index_unique in .concat appends sample ids to barcodes\n",
    "adata = anndata.concat(adatas, index_unique=\"_\")\n",
    "\n",
    "assert np.all(key_save_l[0] == key_save_l[1])\n",
    "key = key_save_l[-1]\n",
    "key= key.reset_index()\n",
    "key.index=key.gene_ids\n",
    "\n",
    "# Use conversion key to re-assign symbols to ensembl ids\n",
    "adata.var['gene_symbols'] = key.loc[adata.var.index]['index']"
   ]
  },
  {
   "cell_type": "code",
   "execution_count": null,
   "id": "dc582446-3831-483e-9d70-cc6f06c0c3b2",
   "metadata": {},
   "outputs": [],
   "source": [
    "adata"
   ]
  },
  {
   "cell_type": "code",
   "execution_count": null,
   "id": "534853f4-0a83-419c-bb35-b39a70a8f855",
   "metadata": {},
   "outputs": [],
   "source": [
    "adata.shape"
   ]
  },
  {
   "cell_type": "code",
   "execution_count": null,
   "id": "5fcb121d-b29b-4514-bf02-23cb18ab9f59",
   "metadata": {},
   "outputs": [],
   "source": [
    "# check if any indices contain a certain string (look for \"-\" as .var_names_make_unique appends -1, -2, etc. to duplicated gene symbols)\n",
    "for g in adata.var.index:\n",
    "    if '-' in g:\n",
    "        print(g)"
   ]
  },
  {
   "cell_type": "markdown",
   "id": "2b336223-6aea-4b3f-b8fb-25ae0586ee10",
   "metadata": {},
   "source": [
    "### Load features.tsv.gz from single sample"
   ]
  },
  {
   "cell_type": "code",
   "execution_count": null,
   "id": "b3d4a50d-1670-474a-9d82-018619cd2a98",
   "metadata": {},
   "outputs": [],
   "source": [
    "# This should be equivalent for every sample\n",
    "features_path = f\"/data/projects/2022/Adolph-scRNA-organoids/01_nfcore_scrnaseq/cellranger/sample-AJ10/outs/filtered_feature_bc_matrix/features.tsv.gz\"\n",
    "genes = pd.read_csv(gzip.open(features_path, mode=\"rt\"), delimiter=\"\\t\", header=None)\n",
    "genes.drop(genes.columns[[2]], axis=1, inplace=True)\n",
    "genes.rename(columns={0:'gene_id', 1: 'gene_symbol'}, inplace=True)\n",
    "genes.set_index('gene_symbol', inplace=True)"
   ]
  },
  {
   "cell_type": "code",
   "execution_count": null,
   "id": "e615bb77-09eb-49a5-9e97-e4376b1cb938",
   "metadata": {},
   "outputs": [],
   "source": [
    "len(adata.var['gene_symbols'].unique())"
   ]
  },
  {
   "cell_type": "code",
   "execution_count": null,
   "id": "049ec1e8-7d31-4eac-97ee-b7206b65df84",
   "metadata": {},
   "outputs": [],
   "source": [
    "# Apparently some gene symbols are not unique\n",
    "adata.shape[1] - len(adata.var['gene_symbols'].unique())"
   ]
  },
  {
   "cell_type": "markdown",
   "id": "47a2c3b3-9c96-4ecd-bf02-e6ad1be36904",
   "metadata": {},
   "source": [
    "### Summary stats raw adata"
   ]
  },
  {
   "cell_type": "code",
   "execution_count": null,
   "id": "281d424f-2d9d-4147-8236-1b851cb2c77d",
   "metadata": {},
   "outputs": [],
   "source": [
    "print(adata.obs['sample'].value_counts())\n",
    "print('')\n",
    "print(adata.obs['patient'].value_counts())\n",
    "print('')\n",
    "print(adata.obs['group'].value_counts())\n",
    "print('')\n",
    "print(adata.obs['batch'].value_counts())"
   ]
  },
  {
   "cell_type": "markdown",
   "id": "a24aa7a8-61e6-4c5d-9270-cc999ad44286",
   "metadata": {},
   "source": [
    "## 2. Define filter thresholds"
   ]
  },
  {
   "cell_type": "code",
   "execution_count": null,
   "id": "86900926-7365-45b4-b1e4-c3a7fcad2784",
   "metadata": {},
   "outputs": [],
   "source": [
    "sc.pp.filter_cells(adata, min_genes=200)\n",
    "sc.pp.filter_genes(adata, min_cells=3)"
   ]
  },
  {
   "cell_type": "code",
   "execution_count": null,
   "id": "86f583d1-297f-4bcc-bd81-277434718529",
   "metadata": {},
   "outputs": [],
   "source": [
    "adata.shape"
   ]
  },
  {
   "cell_type": "code",
   "execution_count": null,
   "id": "2a7f05d8-4054-44b6-9063-48b3570803c1",
   "metadata": {},
   "outputs": [],
   "source": [
    "adata.var['mt'] = adata.var_names.str.startswith('MT-')  # annotate the group of mitochondrial genes as 'mt'\n",
    "sc.pp.calculate_qc_metrics(adata, qc_vars=['mt'], percent_top=None, log1p=False, inplace=True)"
   ]
  },
  {
   "cell_type": "code",
   "execution_count": null,
   "id": "afa27745-ed90-4c8a-8f69-c8d27cc4b9ff",
   "metadata": {},
   "outputs": [],
   "source": [
    "sc.pl.violin(adata, ['n_genes_by_counts', 'total_counts', 'pct_counts_mt'],\n",
    "             jitter=0.4, multi_panel=True)"
   ]
  },
  {
   "cell_type": "code",
   "execution_count": null,
   "id": "8086b5fd-3a01-4034-aa1a-5ce2966f8458",
   "metadata": {},
   "outputs": [],
   "source": []
  },
  {
   "cell_type": "code",
   "execution_count": null,
   "id": "5e74b0dc-5bd3-47d3-8346-6e9dfe261958",
   "metadata": {},
   "outputs": [],
   "source": []
  },
  {
   "cell_type": "code",
   "execution_count": null,
   "id": "c74d682c-0d56-464a-8f0e-ace18e911dad",
   "metadata": {},
   "outputs": [],
   "source": []
  },
  {
   "cell_type": "code",
   "execution_count": null,
   "id": "dd2ca73a-463e-4748-9a82-fff5c43229ca",
   "metadata": {},
   "outputs": [],
   "source": []
  },
  {
   "cell_type": "code",
   "execution_count": null,
   "id": "6c9f1c02-1c43-4a2d-adac-0ee8fadea363",
   "metadata": {},
   "outputs": [],
   "source": []
  },
  {
   "cell_type": "code",
   "execution_count": null,
   "id": "f5d89aff-0d74-4fed-9836-bd36f4770e91",
   "metadata": {},
   "outputs": [],
   "source": []
  },
  {
   "cell_type": "code",
   "execution_count": null,
   "id": "9143b8f8-5331-4d40-94f6-e11313ced600",
   "metadata": {},
   "outputs": [],
   "source": []
  },
  {
   "cell_type": "code",
   "execution_count": null,
   "id": "dd9daeb7-5439-4526-879a-0d14bb50cea2",
   "metadata": {},
   "outputs": [],
   "source": []
  },
  {
   "cell_type": "code",
   "execution_count": null,
   "id": "8861ede2-f393-46ce-8396-70b6099546c3",
   "metadata": {},
   "outputs": [],
   "source": []
  },
  {
   "cell_type": "code",
   "execution_count": null,
   "id": "373382ea-6064-41c8-aae2-927860018e52",
   "metadata": {},
   "outputs": [],
   "source": []
  },
  {
   "cell_type": "code",
   "execution_count": null,
   "id": "cca5ac50-4c7b-49ab-8041-3aa254b73b1d",
   "metadata": {},
   "outputs": [],
   "source": []
  }
 ],
 "metadata": {
  "kernelspec": {
   "display_name": "Python [conda env:.conda-scRNAseq]",
   "language": "python",
   "name": "conda-env-.conda-scRNAseq-py"
  },
  "language_info": {
   "codemirror_mode": {
    "name": "ipython",
    "version": 3
   },
   "file_extension": ".py",
   "mimetype": "text/x-python",
   "name": "python",
   "nbconvert_exporter": "python",
   "pygments_lexer": "ipython3",
   "version": "3.8.5"
  }
 },
 "nbformat": 4,
 "nbformat_minor": 5
}
